{
 "cells": [
  {
   "cell_type": "code",
   "execution_count": 4,
   "metadata": {
    "collapsed": false
   },
   "outputs": [
    {
     "name": "stdout",
     "output_type": "stream",
     "text": [
      "Populating the interactive namespace from numpy and matplotlib\n"
     ]
    },
    {
     "name": "stderr",
     "output_type": "stream",
     "text": [
      "/Users/hantke/Library/Python/2.7/lib/python/site-packages/IPython/core/magics/pylab.py:161: UserWarning: pylab import has clobbered these variables: ['histogram']\n",
      "`%matplotlib` prevents importing * from pylab and numpy\n",
      "  \"\\n`%matplotlib` prevents importing * from pylab and numpy\"\n"
     ]
    }
   ],
   "source": [
    "%pylab inline\n",
    "from siph import *\n",
    "\n",
    "\n",
    "\n",
    "import h5py\n",
    "import condor"
   ]
  },
  {
   "cell_type": "code",
   "execution_count": 259,
   "metadata": {
    "collapsed": false
   },
   "outputs": [],
   "source": [
    "photon_energy_correction = 1.0\n",
    "\n",
    "def read_data(experiment, run_number, N=50, skip=1):\n",
    "    print photon_energy_correction\n",
    "    filename = \"/Users/hantke/davinci/scratch/fhgfs/xray/%s/preproc/%s_r%04i_ol3.h5\" % (experiment,experiment,run_number)\n",
    "    with h5py.File(filename, \"r\") as f:\n",
    "        imgs = asarray(f[\"entry_1/data_1/data\"][-N-skip:-skip])\n",
    "        msk = asarray(f[\"entry_1/data_1/mask\"])\n",
    "        gains = asarray(f[\"entry_1/detector_1/gain\"][-N-skip:-skip]) * photon_energy_correction\n",
    "        photon_energies_SLAC = asarray(f[\"entry_1/FEL/photon_energy_eV_SLAC\"][-N-skip:-skip]) * photon_energy_correction\n",
    "        gmds = asarray(f[\"entry_1/detector_3/pulse_energy_mJ\"][-N-skip:-skip]) \n",
    "    print gmds[0]\n",
    "    return imgs, msk, gains, photon_energies_SLAC, gmds\n",
    "\n",
    "def generate_mask(msk, rlims=None):\n",
    "    tmp = (msk&condor.utils.pixelmask.PixelMask.PIXEL_IS_IN_MASK)==0\n",
    "    tmp[:512,512:] = False\n",
    "    if rlims is not None:\n",
    "        X, Y = meshgrid(arange(msk.shape[1]), arange(msk.shape[0]))\n",
    "        R = sqrt((X-530)**2 + (Y-550)**2)\n",
    "        tmp *= (R >= rlims[0])*(R <= rlims[1])\n",
    "    return tmp\n",
    "        \n",
    "def apply_mask(imgs, msk, rlims=None):\n",
    "    tmp = repeat(asarray([msk]), imgs.shape[0], axis=0)\n",
    "    values = imgs.flatten()[tmp.flatten()]\n",
    "    return values\n",
    "    "
   ]
  },
  {
   "cell_type": "code",
   "execution_count": null,
   "metadata": {
    "collapsed": true
   },
   "outputs": [],
   "source": []
  },
  {
   "cell_type": "code",
   "execution_count": null,
   "metadata": {
    "collapsed": true
   },
   "outputs": [],
   "source": [
    "nbins = 101\n",
    "ex = \"amol3416\"\n",
    "N = 10\n",
    "vmin = -0.5\n",
    "vmax = 1.5\n",
    "\n",
    "# No gas\n",
    "r = 154\n",
    "imgs, msk, gains, photon_energies_SLAC, gmds = read_data(ex, r, N, skip=2000)\n",
    "msk = generate_mask(msk)\n",
    "values = apply_mask(imgs, msk, rlims=(50, 300))\n",
    "print gains.mean()\n",
    "photons = values / gains.mean()\n",
    "I_no, H_no = histogram(photons, nbins=nbins, vmin=vmin, vmax=vmax)\n",
    "\n",
    "# Only N2\n",
    "r = 152\n",
    "imgs, msk, gains, photon_energies_SLAC, gmds = read_data(ex, r, N, skip=2000)\n",
    "msk = generate_mask(msk)\n",
    "values = apply_mask(imgs, msk)#, rlims=(50, 300))\n",
    "photons = values / gains.mean()\n",
    "I_N2, H_N2 = histogram(photons, nbins=nbins, vmin=vmin, vmax=vmax)"
   ]
  },
  {
   "cell_type": "code",
   "execution_count": 284,
   "metadata": {
    "collapsed": true
   },
   "outputs": [],
   "source": [
    "wl_O_Kalpha = 2.362E-9\n",
    "wl_N_Kalpha = 3.16E-9\n",
    "wl_C_Kalpha = 4.47E-9\n",
    "EeV_O_Kalpha = condor.source.Photon(wavelength=wl_O_Kalpha).get_energy_eV()\n",
    "EeV_N_Kalpha = condor.source.Photon(wavelength=wl_N_Kalpha).get_energy_eV()\n",
    "EeV_C_Kalpha = condor.source.Photon(wavelength=wl_C_Kalpha).get_energy_eV()\n",
    "EeV_photon = np.median(photon_energies_SLAC)\n",
    "photon_energy0 = 1.\n",
    "photon_energyO = EeV_O_Kalpha/EeV_photon\n",
    "photon_energyN = EeV_N_Kalpha/EeV_photon\n",
    "photon_energyC = EeV_C_Kalpha/EeV_photon"
   ]
  },
  {
   "cell_type": "code",
   "execution_count": 285,
   "metadata": {
    "collapsed": false
   },
   "outputs": [
    {
     "data": {
      "text/plain": [
       "(0, 10000)"
      ]
     },
     "execution_count": 285,
     "metadata": {},
     "output_type": "execute_result"
    },
    {
     "data": {
      "image/png": "[encoded data removed]",
      "text/plain": [
       "<matplotlib.figure.Figure at 0x10ed08210>"
      ]
     },
     "metadata": {},
     "output_type": "display_data"
    }
   ],
   "source": [
    "fig, axs = subplots(2, 1, sharey=True, sharex=True)\n",
    "axs[0].plot(I_no, H_no)\n",
    "axs[1].plot(I_N2, H_N2)\n",
    "for ax in axs:\n",
    "    ax.axvline(photon_energyC, color='black')\n",
    "    ax.axvline(photon_energyN, color='black')\n",
    "    ax.axvline(photon_energyO, color='black')\n",
    "    ax.axvline(photon_energy0, color='black')    \n",
    "ylim(0, 10000)"
   ]
  },
  {
   "cell_type": "code",
   "execution_count": 273,
   "metadata": {
    "collapsed": false
   },
   "outputs": [],
   "source": [
    "def hist_I_N(N, sigma, L, nphotons_list, noise_sigma=None, nbins=101, photon_energy=1.0, vmin=-0.5, vmax=1.5):\n",
    "    H = 0.\n",
    "    for i,nphotons in enumerate(nphotons_list):\n",
    "        I, h = hist_I(sigma, L, nphotons, noise_sigma, nbins, photon_energy*(i+1), vmin, vmax)\n",
    "        H = H + h\n",
    "    return I, H\n",
    "\n",
    "def fit_hist_no(I, H, S, sigma0=0.2, L0=3, noise_sigma0=0.1, photon_energy=1.0, N=1):\n",
    "    assert len(I) == len(H)\n",
    "    nbins = len(I)\n",
    "    nphotons0 = H.sum()\n",
    "\n",
    "    # 1) Simple Gaussian fit for getting good estimate for noise_sigma\n",
    "    S0 = I <= 0.25\n",
    "    func = lambda noise_sigma: 1-scipy.stats.pearsonr(np.exp(-I[S0]**2/(2.*noise_sigma0**2)), H[S0])[0]\n",
    "    noise_sigma_fit = scipy.optimize.leastsq(func, noise_sigma0)[0][0]\n",
    "    # 2) Now fit of the other variables\n",
    "    x0 = [sigma0, L0]\n",
    "    for i in range(N):\n",
    "        x0 += [nphotons0/N]\n",
    "    #func1 = lambda x: (hist_I_N(N, sigma=x[0], L=x[1], nphotons_list=x[2:], noise_sigma=noise_sigma_fit,\n",
    "    #                            nbins=nbins, photon_energy=photon_energy, vmin=I[0], vmax=I[-1])[1] - H)[S]\n",
    "    #func2 = lambda x: (hist_I_N(N, sigma=x[0], L=x[1], nphotons_list=x[2:], noise_sigma=noise_sigma_fit,\n",
    "    #                            nbins=nbins, photon_energy=photon_energy, vmin=I[0], vmax=I[-1])[1] + H)[S]\n",
    "    #func = lambda x: func1(x)/func2(x)\n",
    "    \n",
    "    func = lambda x: ((hist_I_N(N, sigma=x[0], L=x[1], nphotons_list=x[2:], noise_sigma=noise_sigma_fit,\n",
    "                                nbins=nbins, photon_energy=photon_energy, vmin=I[0], vmax=I[-1])[1] - H)[S])\n",
    "#                      (hist_I_N(N, sigma=x[0], L=x[1], nphotons_list=x[2:], noise_sigma=noise_sigma_fit,\n",
    "#                                nbins=nbins, photon_energy=photon_energy, vmin=I[0], vmax=I[-1])[1] + H)[S])\n",
    "    assert np.isnan(func(x0).any()) == False\n",
    "    x_fit = scipy.optimize.leastsq(func, x0,\n",
    "                                   args=(), Dfun=None,\n",
    "                                   full_output=0, col_deriv=0,\n",
    "                                   ftol=1.49012e-08, xtol=1.49012e-08, gtol=0.0, \n",
    "                                   maxfev=0, epsfcn=None, factor=100, diag=None)[0]\n",
    "    sigma_fit = x_fit[0]\n",
    "    L_fit = x_fit[1]\n",
    "    nphotons_fit_list = list(x_fit[2:])\n",
    "    return sigma_fit, L_fit, nphotons_fit_list, noise_sigma_fit\n",
    "\n",
    "def fit_hist_N2(I, H, S, nphotons10, nphotonsN0, sigma, L, noise_sigma, photon_energy=1.0, N=1):\n",
    "    assert len(I) == len(H)\n",
    "    nbins = len(I)\n",
    "\n",
    "    x0 = []\n",
    "    for i in range(N):\n",
    "        x0 += [nphotons10/N]\n",
    "    for i in range(N):\n",
    "        x0 += [nphotonsN0/N]\n",
    "    _hist_I_N = lambda nphotons_list, photon_energy: hist_I_N(N, sigma=sigma, L=L, nphotons_list=nphotons_list, noise_sigma=noise_sigma,\n",
    "                                                               nbins=nbins, photon_energy=photon_energy, vmin=I[0], vmax=I[-1])\n",
    "    hist_I_N_0 = lambda nphotons_list: _hist_I_N(nphotons_list, photon_energy)\n",
    "    hist_I_N_N = lambda nphotons_list: _hist_I_N(nphotons_list, photon_energyN)\n",
    "   \n",
    "    hist_model = lambda x: abs(hist_I_N_0(x[:N])[1]) + abs(hist_I_N_N(x[N:])[1])\n",
    "    func = lambda x: ((hist_model(x) - H)/abs(hist_model(x)+ H))[S]\n",
    "    assert np.isnan(func(x0).any()) == False\n",
    "    x_fit = scipy.optimize.leastsq(func, x0,\n",
    "                                   args=(), Dfun=None,\n",
    "                                   full_output=0, col_deriv=0,\n",
    "                                   ftol=1.49012e-08, xtol=1.49012e-08, gtol=0.0, \n",
    "                                   maxfev=0, epsfcn=None, factor=100, diag=None)[0]\n",
    "    nphotons0_fit_list = list(x_fit[:N])\n",
    "    nphotonsN_fit_list = list(x_fit[N:])\n",
    "    print nphotons0_fit_list, nphotonsN_fit_list\n",
    "    return nphotons0_fit_list, nphotonsN_fit_list\n"
   ]
  },
  {
   "cell_type": "code",
   "execution_count": 289,
   "metadata": {
    "collapsed": true
   },
   "outputs": [],
   "source": [
    "def fit_and_plot_no_gas(I, H, S, sigma0=0.2, L0=20, noise_sigma0=0.05, N=2):\n",
    "    sigma_fit, L_fit, nphotons_fit_list, noise_sigma_fit = fit_hist_no(I, H, S,\n",
    "                                                                      sigma0=sigma0, L0=L0, \n",
    "                                                                      noise_sigma0=noise_sigma0, N=N)\n",
    "    H_sum_fit = 0\n",
    "    for i, nphotons_i_fit in enumerate(nphotons_fit_list):\n",
    "        Ii_fit, Hi_fit = hist_I(sigma_fit, L_fit, abs(nphotons_i_fit), noise_sigma=noise_sigma_fit, nbins=nbins,\n",
    "                                photon_energy=1.+i, vmin=I[0], vmax=I[-1])\n",
    "        H_sum_fit = H_sum_fit + Hi_fit\n",
    "        plot(Ii_fit, Hi_fit, \"--\", color=\"black\")\n",
    "\n",
    "    semilogy(Ii_fit, H_sum_fit, color=\"red\")\n",
    "    semilogy(I, H)\n",
    "    ylim(10, 40000000)\n",
    "    return sigma_fit, L_fit, nphotons_fit_list, noise_sigma_fit\n",
    "\n",
    "def fit_and_plot_N2(I, H, S, sigma_fit, L0, nphotons10, nphotonsN20, noise_sigma0): \n",
    "    hist_I_1 = lambda L, nphotons, noise_sigma: hist_I(sigma_fit, L, nphotons, noise_sigma=noise_sigma,\n",
    "                                                       nbins=nbins, photon_energy=1.0)[1]\n",
    "    hist_I_N = lambda L, nphotons, noise_sigma: hist_I(sigma_fit, L, nphotons, noise_sigma=noise_sigma,\n",
    "                                                       nbins=nbins, photon_energy=photon_energyN)[1]\n",
    "    #hist_I_C = lambda L, nphotons: hist_I(sigma_fit, L, nphotons, noise_sigma=noise_sigma_fit,\n",
    "    #                                             nbins=nbins, photon_energy=photon_energyC)[1]\n",
    "    #hist_I_O = lambda L, nphotons: hist_I(sigma_fit, L, nphotons, noise_sigma=noise_sigma_fit,\n",
    "    #                                             nbins=nbins, photon_energy=photon_energyO)[1]\n",
    "    #H_sum = lambda L, nphotons1, nphotonsN, nphotonsC, nphotonsO: hist_I_1(abs(L), abs(nphotons1)) +\\\n",
    "    #                                                              hist_I_N(abs(L), abs(nphotonsN)) +\\\n",
    "    #                                                              hist_I_C(abs(L), abs(nphotonsC)) +\\\n",
    "    #                                                              hist_I_O(abs(L), abs(nphotonsO))\n",
    "    H_sum = lambda L, nphotons1, nphotonsN, noise_sigma: hist_I_1(abs(L), abs(nphotons1), abs(noise_sigma)) +\\\n",
    "                                                         hist_I_N(abs(L), abs(nphotonsN), abs(noise_sigma))\n",
    "    func = lambda x: ((H - H_sum(x[0], x[1], x[2], x[3]))/(H + H_sum(x[0], x[1], x[2], x[3])))[S]\n",
    "    x = scipy.optimize.leastsq(func, [L0, nphotons10, nphotonsN20, noise_sigma0])[0]\n",
    "    x = abs(array(x))\n",
    "    [L_fit, nphotons1_fit, nphotonsN_fit, noise_sigma_fit] = x\n",
    "    \n",
    "    H_1 = hist_I_1(L_fit, nphotons1_fit, noise_sigma_fit)\n",
    "    H_N = hist_I_N(L_fit, nphotonsN_fit, noise_sigma_fit)\n",
    "    #H_C = hist_I_C(L_fit2, nphotonsC_fit)\n",
    "    #H_O = hist_I_O(L_fit2, nphotonsO_fit)\n",
    "    plot(I, H_1, \"--\", c='red')\n",
    "    plot(I, H_N, \"--\", c='red')\n",
    "    #plot(I, H_C, \"--\", c='red')\n",
    "    #plot(I, H_O, \"--\", c='red')\n",
    "    #plot(I, H_1+H_N+H_C+H_O)\n",
    "    plot(I, H_1+H_N)\n",
    "    plot(I, H, \".\", c=\"black\")\n",
    "    ylim(0, 10000)\n",
    "    \n",
    "    return L_fit, nphotons1_fit, nphotonsN_fit, noise_sigma_fit\n",
    "\n",
    "def fit_and_plot_N2(I, H, S, sigma, L, nphotons00, nphotonsN0, noise_sigma, photon_energy=1., N=1): \n",
    "    nphotons0_list_fit, nphotonsN_list_fit = fit_hist_N2(I, H, S, nphotons00, nphotonsN0, sigma, L, noise_sigma, photon_energy=photon_energy, N=N)\n",
    "    H0_sum_fit = 0\n",
    "    HN_sum_fit = 0\n",
    "    for i, nphotons0_i_fit, nphotonsN_i_fit in zip(range(N), nphotons0_list_fit, nphotonsN_list_fit): \n",
    "        Ii_fit, Hi_fit = hist_I(sigma, L, abs(nphotons0_i_fit), noise_sigma=noise_sigma, nbins=nbins,\n",
    "                                photon_energy=photon_energy*(i+1), vmin=I[0], vmax=I[-1])\n",
    "        H0_sum_fit = H0_sum_fit + Hi_fit\n",
    "        plot(Ii_fit, Hi_fit, \"--\", color=\"black\")\n",
    "        Ii_fit, Hi_fit = hist_I(sigma, L, abs(nphotonsN_i_fit), noise_sigma=noise_sigma, nbins=nbins,\n",
    "                                photon_energy=photon_energyN*(i+1), vmin=I[0], vmax=I[-1])\n",
    "        HN_sum_fit = HN_sum_fit + Hi_fit\n",
    "        plot(Ii_fit, Hi_fit, \"--\", color=\"black\")\n",
    "    #semilogy(Ii_fit, H0_sum_fit, color=\"red\")\n",
    "    #semilogy(Ii_fit, HN_sum_fit, color=\"green\")\n",
    "    semilogy(Ii_fit, H0_sum_fit+HN_sum_fit, color=\"green\")\n",
    "    semilogy(I, H)\n",
    "    ylim(10, 40000000)"
   ]
  },
  {
   "cell_type": "code",
   "execution_count": 288,
   "metadata": {
    "collapsed": false
   },
   "outputs": [
    {
     "data": {
      "image/png": "[encoded data removed]",
      "text/plain": [
       "<matplotlib.figure.Figure at 0x11378c990>"
      ]
     },
     "metadata": {},
     "output_type": "display_data"
    }
   ],
   "source": [
    "S_no = I_no > 0.5\n",
    "sigma_fit_no, L_fit_no, nphotons_fit_list_no, noise_sigma_fit_no = fit_and_plot_no_gas(I_no, H_no, S_no)"
   ]
  },
  {
   "cell_type": "code",
   "execution_count": 286,
   "metadata": {
    "collapsed": false
   },
   "outputs": [
    {
     "name": "stdout",
     "output_type": "stream",
     "text": [
      "[4302152.0134925256, 3005688.7241835678] [9766975.5678010825, -4535410.1668990348]\n"
     ]
    },
    {
     "data": {
      "image/png": "[encoded data removed]",
      "text/plain": [
       "<matplotlib.figure.Figure at 0x10fd1be50>"
      ]
     },
     "metadata": {},
     "output_type": "display_data"
    }
   ],
   "source": [
    "I_N2 = I_no\n",
    "S_N2 = I_N2 > -0.5\n",
    "#x = fit_and_plot_N2(I=I_N2, H=H_N2, S=S_N2, sigma_fit=sigma_fit,\n",
    "#                    L0=L_fit_no, nphotons10=2122717, nphotonsN20=7933926, noise_sigma0=noise_sigma_fit_no)\n",
    "#L_fit_N2, nphotons1_fit_N2, nphotonsN_fit_N2, noise_sigma_fit_N2 = x\n",
    "x = fit_and_plot_N2(I=I_N2, H=H_N2, S=S_N2, nphotons00=2122717, nphotonsN0=7933926, sigma=sigma_fit_no,\n",
    "                    L=L_fit_no, noise_sigma=noise_sigma_fit_no, photon_energy=1., N=2)\n",
    "\n"
   ]
  },
  {
   "cell_type": "code",
   "execution_count": null,
   "metadata": {
    "collapsed": true
   },
   "outputs": [],
   "source": []
  }
 ],
 "metadata": {
  "kernelspec": {
   "display_name": "Python 2",
   "language": "python",
   "name": "python2"
  },
  "language_info": {
   "codemirror_mode": {
    "name": "ipython",
    "version": 2
   },
   "file_extension": ".py",
   "mimetype": "text/x-python",
   "name": "python",
   "nbconvert_exporter": "python",
   "pygments_lexer": "ipython2",
   "version": "2.7.10"
  }
 },
 "nbformat": 4,
 "nbformat_minor": 1
}
